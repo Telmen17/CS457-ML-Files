{
 "cells": [
  {
   "cell_type": "markdown",
   "id": "488b8266",
   "metadata": {},
   "source": [
    "# Lab Assignment: Building a Neural Network from Scratch\n",
    "\n",
    "### Objective\n",
    "This lab guides you through the implementation of a simple feedforward neural network from scratch. \n",
    "By completing this lab, you will:\n",
    "- Initialize a neural network with weights and biases.\n",
    "- Compute the weighted sum at each node.\n",
    "- Apply activation functions for node outputs.\n",
    "- Perform forward propagation to compute predictions.\n",
    "- Implement backpropagation to compute gradients.\n",
    "- Update weights using gradients to minimize the loss."
   ]
  },
  {
   "cell_type": "markdown",
   "id": "2668a14e",
   "metadata": {},
   "source": [
    "## Step 1: Initialize the Network"
   ]
  },
  {
   "cell_type": "code",
   "execution_count": 74,
   "id": "396df339",
   "metadata": {},
   "outputs": [
    {
     "name": "stdout",
     "output_type": "stream",
     "text": [
      "Telmen Enkhtuvshin + Initialized Network:\n",
      "\n",
      " [{'biases': array([[0.83244, 0.21234, 0.18182, 0.1834 ]]),\n",
      "  'weights': array([[0.37454, 0.95071, 0.73199, 0.59866],\n",
      "       [0.15602, 0.15599, 0.05808, 0.86618],\n",
      "       [0.60112, 0.70807, 0.02058, 0.96991]])},\n",
      " {'biases': array([[0.59241, 0.04645, 0.60754]]),\n",
      "  'weights': array([[0.30424, 0.52476, 0.43195],\n",
      "       [0.29123, 0.61185, 0.13949],\n",
      "       [0.29214, 0.36636, 0.45607],\n",
      "       [0.78518, 0.19967, 0.51423]])},\n",
      " {'biases': array([[0.96563]]),\n",
      "  'weights': array([[0.17052],\n",
      "       [0.06505],\n",
      "       [0.94889]])}]\n"
     ]
    }
   ],
   "source": [
    "import numpy as np\n",
    "import pprint\n",
    "\n",
    "np.random.seed(42)  # For reproducibility\n",
    "\n",
    "def initialize_network(input_size, hidden_layers, output_size):\n",
    "    #TE: Initializing number of previous nodes\n",
    "    num_nodes_previous = input_size\n",
    "    #TE: Declaring network\n",
    "    network = []\n",
    "    #TE: Number of hidden layers\n",
    "    num_hidden_layers = len(hidden_layers)\n",
    "\n",
    "    #TE: Loop through each layer and randomly assign weights and biases\n",
    "    for layer in range(num_hidden_layers + 1):\n",
    "        #TE: Dictionary to store weights & biases\n",
    "        layer_dic = {}\n",
    "        \n",
    "        if layer == num_hidden_layers:\n",
    "            #TE: Output layer nodes\n",
    "            num_nodes = output_size\n",
    "        else:\n",
    "            #TE: Hidden layer nodes\n",
    "            num_nodes = hidden_layers[layer]\n",
    "        \n",
    "        #TEL Initializing weights: (num_nodes_previous, num_nodes)\n",
    "        layer_dic['weights'] = np.around(np.random.uniform(size=(num_nodes_previous, num_nodes)), decimals=5)\n",
    "\n",
    "        #TE: Initializing biases: (1, num_nodes)\n",
    "        layer_dic['biases'] = np.around(np.random.uniform(size=(1, num_nodes)), decimals=5)\n",
    "\n",
    "        #TE: Append layer dictionary to network list\n",
    "        network.append(layer_dic)\n",
    "        num_nodes_previous = num_nodes  # Update for next layer\n",
    "\n",
    "    return network\n",
    "\n",
    "# Initialize a network with 3 inputs, 2 hidden layers (4 and 3 nodes), and 1 output node\n",
    "network = initialize_network(3, [4, 3], 1)\n",
    "\n",
    "# Pretty print the network\n",
    "pretty_dict_str = pprint.pformat(network)\n",
    "print(\"Telmen Enkhtuvshin + Initialized Network:\\n\\n\", pretty_dict_str)\n"
   ]
  },
  {
   "cell_type": "code",
   "execution_count": 55,
   "id": "5d2110d8",
   "metadata": {},
   "outputs": [
    {
     "data": {
      "text/plain": [
       "array([[1., 2., 3., 4.],\n",
       "       [5., 6., 7., 8.]])"
      ]
     },
     "execution_count": 55,
     "metadata": {},
     "output_type": "execute_result"
    }
   ],
   "source": [
    "# Scratch work\n",
    "array_2d = np.empty((0, 4))\n",
    "nparr1 = np.array([1,2,3,4])\n",
    "nparr2 = np.array([5,6,7,8])\n",
    "\n",
    "array_2d = np.vstack((array_2d, nparr1))\n",
    "array_2d = np.vstack((array_2d, nparr2))\n",
    "array_2d"
   ]
  },
  {
   "cell_type": "code",
   "execution_count": 56,
   "id": "767f0ab3",
   "metadata": {},
   "outputs": [
    {
     "data": {
      "text/plain": [
       "{'weights': array([[0.37454, 0.95071, 0.73199, 0.59866],\n",
       "        [0.15602, 0.15599, 0.05808, 0.86618],\n",
       "        [0.60112, 0.70807, 0.02058, 0.96991]]),\n",
       " 'biases': array([[0.83244, 0.21234, 0.18182, 0.1834 ]])}"
      ]
     },
     "execution_count": 56,
     "metadata": {},
     "output_type": "execute_result"
    }
   ],
   "source": [
    "network[0]"
   ]
  },
  {
   "cell_type": "markdown",
   "id": "3ecfdd84",
   "metadata": {},
   "source": [
    "## Step 2: Compute Weighted Sum"
   ]
  },
  {
   "cell_type": "code",
   "execution_count": 57,
   "id": "66c4ad58",
   "metadata": {},
   "outputs": [
    {
     "name": "stdout",
     "output_type": "stream",
     "text": [
      "Telmen Enkhtuvshin + Weighted Sum: [[2.637612 2.017512 1.986992 1.988572]]\n"
     ]
    }
   ],
   "source": [
    "def compute_weighted_sum(inputs, weights, biases):\n",
    "    # Please numpy dot to calcuate the compute weighted with linear \n",
    "    # provide your code\n",
    "    \n",
    "    #TE: Calculating weighted sum for for a single node\n",
    "    return np.sum(np.dot(inputs, weights)) + biases\n",
    "    \n",
    "\n",
    "# Test weighted sum\n",
    "inputs = np.array([[0.5, 0.2, 0.1]])\n",
    "layer = network[0]  # First layer\n",
    "Z = compute_weighted_sum(inputs, layer['weights'], layer['biases'])\n",
    "print(\"Telmen Enkhtuvshin + Weighted Sum:\", Z)"
   ]
  },
  {
   "cell_type": "markdown",
   "id": "7d82553f",
   "metadata": {},
   "source": [
    "## Step 3: Compute Node Activation"
   ]
  },
  {
   "cell_type": "code",
   "execution_count": 59,
   "id": "36b00bf0",
   "metadata": {},
   "outputs": [
    {
     "name": "stdout",
     "output_type": "stream",
     "text": [
      "Telmen Enkhtuvshin + Activation: [[0.93324335 0.8826235  0.87942454 0.87959198]]\n"
     ]
    }
   ],
   "source": [
    "def sigmoid(Z):\n",
    "#     provide your code\n",
    "    return 1 / (1 + np.exp(-Z))\n",
    "\n",
    "def sigmoid_derivative(A):\n",
    "    # provide your code\n",
    "    return A * (1 - A)\n",
    "\n",
    "# Compute activation for the weighted sum\n",
    "A = sigmoid(Z)\n",
    "print(\"Telmen Enkhtuvshin + Activation:\", A)"
   ]
  },
  {
   "cell_type": "markdown",
   "id": "769f9c55",
   "metadata": {},
   "source": [
    "## Step 4: Perform Forward Propagation"
   ]
  },
  {
   "cell_type": "code",
   "execution_count": 72,
   "id": "5d2e9d28",
   "metadata": {},
   "outputs": [
    {
     "name": "stdout",
     "output_type": "stream",
     "text": [
      "[array([[0.5, 0.2, 0.1]]), array([[0.752743  , 0.68824968, 0.63732437, 0.68032089]]), array([[0.85100157, 0.77417325, 0.84166578]]), array([[0.87738104]])] \n",
      "\n",
      "Telmen Enkhtuvshin + Final Output: [[0.87738104]]\n"
     ]
    }
   ],
   "source": [
    "def forward_propagation(inputs, network):\n",
    "    # provide your code\n",
    "    #TE: Start with the input layer\n",
    "    activations = [inputs]\n",
    "    #TE: Looping over the layers in network\n",
    "    for layer in network:\n",
    "        #TE: Retrieve weights and biases\n",
    "        weights = layer['weights']\n",
    "        biases = layer['biases']\n",
    "        \n",
    "        #TE: Compute weighted sum: Z = X * W + B (broadcasting ensures correct shape)\n",
    "        Z = np.dot(activations[-1], weights) + biases\n",
    "\n",
    "        #TE: Apply activation function\n",
    "        A = sigmoid(Z)\n",
    "\n",
    "        #TE: Store the activations for the layer\n",
    "        activations.append(A)\n",
    "    #TE: Finally returning the activation dictionary\n",
    "    return activations\n",
    "\n",
    "\n",
    "# Perform forward propagation\n",
    "activations = forward_propagation(inputs, network)\n",
    "print(activations,'\\n')\n",
    "print(\"Telmen Enkhtuvshin + Final Output:\", activations[-1])"
   ]
  },
  {
   "cell_type": "markdown",
   "id": "e342f58d",
   "metadata": {},
   "source": [
    "## Step 5: Backpropagation"
   ]
  },
  {
   "cell_type": "code",
   "execution_count": 69,
   "id": "1ec4d75a",
   "metadata": {},
   "outputs": [
    {
     "name": "stdout",
     "output_type": "stream",
     "text": [
      "Telmen Enkhtuvshin + Gradients:\n",
      "\n",
      " [{'dW': array([[-8.38279728e-05, -4.44370161e-05, -1.05579004e-04,\n",
      "        -1.22850398e-04],\n",
      "       [-3.35311891e-05, -1.77748064e-05, -4.22316016e-05,\n",
      "        -4.91401591e-05],\n",
      "       [-1.67655946e-05, -8.88740322e-06, -2.11158008e-05,\n",
      "        -2.45700796e-05]]),\n",
      "  'db': array([[-1.67655946e-04, -8.88740322e-05, -2.11158008e-04,\n",
      "        -2.45700796e-04]])},\n",
      " {'dW': array([[-2.17713364e-04, -1.14487421e-04, -1.27427349e-03],\n",
      "       [-1.99032300e-04, -1.04663739e-04, -1.16493347e-03],\n",
      "       [-1.84282159e-04, -9.69071840e-05, -1.07860108e-03],\n",
      "       [-1.96733324e-04, -1.03454792e-04, -1.15147759e-03]]),\n",
      "  'db': array([[-0.00028939, -0.00015218, -0.00169379]])},\n",
      " {'dW': array([[-0.0113797 ],\n",
      "       [-0.01035179],\n",
      "       [-0.01125269]]),\n",
      "  'db': array([[-0.01337426]])}]\n"
     ]
    }
   ],
   "source": [
    "def backpropagation(network, activations, y_true):\n",
    "    # provide your code\n",
    "\n",
    "    #TE: Step 1 - Compute deltas for the output layer\n",
    "    delta_output = (activations[-1] - y_true) * sigmoid_derivative(activations[-1])\n",
    "\n",
    "    # Temporary list to store gradients in reverse order\n",
    "    reverse_gradients = []\n",
    "\n",
    "    # Step 2: Backpropagate through each layer\n",
    "    delta = delta_output  # Start with output layer's delta\n",
    "    for layer_idx in reversed(range(len(network))):\n",
    "        layer = network[layer_idx]  # Get the current layer\n",
    "        \n",
    "        # Compute gradients for this layer\n",
    "        dW = np.dot(activations[layer_idx].T, delta)  # Gradient of weights\n",
    "        db = np.sum(delta, axis=0, keepdims=True)  # Gradient of biases\n",
    "\n",
    "        # Store the gradients at the beginning of the final list (ensures correct order)\n",
    "        reverse_gradients.insert(0, {'dW': dW, 'db': db})\n",
    "\n",
    "        #TE: Compute delta for hidden layers (skip for the input layer)\n",
    "        if layer_idx > 0:\n",
    "            next_layer = network[layer_idx]        #TE: Current layer's weights used for next step\n",
    "            weight_matrix = next_layer['weights']  #TE: Get weight matrix\n",
    "            \n",
    "            #TE: Compute new delta\n",
    "            delta = np.dot(delta, weight_matrix.T) * sigmoid_derivative(activations[layer_idx])\n",
    "    \n",
    "    #TE: Final result has gradients in the correct order\n",
    "    return reverse_gradients\n",
    "\n",
    "# Compute gradients\n",
    "y_true = np.array([[1]])  # Example target output\n",
    "gradients = backpropagation(network, activations, y_true)\n",
    "ppt_grd = pprint.pformat(gradients)\n",
    "print(\"Telmen Enkhtuvshin + Gradients:\\n\\n\", ppt_grd)"
   ]
  },
  {
   "cell_type": "markdown",
   "id": "d6b81797-9f82-493a-a509-b1360f04071c",
   "metadata": {},
   "source": [
    "## Step 6: Update Weights"
   ]
  },
  {
   "cell_type": "code",
   "execution_count": 71,
   "id": "33990e4e-9a02-4728-9ff5-fc41e7ef42be",
   "metadata": {},
   "outputs": [
    {
     "name": "stdout",
     "output_type": "stream",
     "text": [
      "Telmen Enkhtuvshin + Updated Network:\n",
      "\n",
      " [{'biases': array([[0.83381096, 0.2136952 , 0.18319966, 0.18478657]]),\n",
      "  'weights': array([[0.37569474, 0.95185686, 0.73314909, 0.59982254],\n",
      "       [0.15706189, 0.15702873, 0.05912363, 0.86722501],\n",
      "       [0.60224862, 0.70919705, 0.02170949, 0.97104018]])},\n",
      " {'biases': array([[0.59249682, 0.04649565, 0.60804814]]),\n",
      "  'weights': array([[0.30430531, 0.52479435, 0.43233228],\n",
      "       [0.29128971, 0.6118814 , 0.13983948],\n",
      "       [0.29219528, 0.36638907, 0.45639358],\n",
      "       [0.78523902, 0.19970104, 0.51457544]])},\n",
      " {'biases': array([[0.96830485]]),\n",
      "  'weights': array([[0.17279594],\n",
      "       [0.06712036],\n",
      "       [0.95114054]])}]\n"
     ]
    }
   ],
   "source": [
    "def update_weights(network, gradients, learning_rate):\n",
    "    # Hints: weights -= learning_rate * 'dW'\n",
    "    # Hints: biases -= learning_rate * 'db'\n",
    "    # Provide your code\n",
    "    #TE: Iterating over the network by layer\n",
    "    for layer_idx in range(len(network)):\n",
    "        #TE: Access the layer\n",
    "        layer = network[layer_idx]\n",
    "\n",
    "        #TE: Access gradients for the corresponding layer\n",
    "        dW = gradients[layer_idx]['dW']\n",
    "        db = gradients[layer_idx]['db']\n",
    "\n",
    "        #TE: Update weights and biases using gradient descent\n",
    "        layer['weights'] -= learning_rate * dW\n",
    "        layer['biases'] -= learning_rate * db\n",
    "\n",
    "# Update weights with a learning rate of 0.1\n",
    "update_weights(network, gradients, learning_rate=0.1)\n",
    "ppt_new_net = pprint.pformat(network)\n",
    "print(\"Telmen Enkhtuvshin + Updated Network:\\n\\n\", ppt_new_net)"
   ]
  },
  {
   "cell_type": "markdown",
   "id": "ed55add1",
   "metadata": {},
   "source": [
    "## Step 7: Visualizing Loss Changes"
   ]
  },
  {
   "cell_type": "code",
   "execution_count": 73,
   "id": "9fe355dc",
   "metadata": {},
   "outputs": [],
   "source": [
    "# Use MSE to compute the loss \n",
    "def compute_loss(y_true, y_pred):\n",
    "    # provide your code\n",
    "    return np.mean((y_true - y_pred) ** 2)"
   ]
  },
  {
   "cell_type": "code",
   "execution_count": 79,
   "id": "f7270921",
   "metadata": {},
   "outputs": [
    {
     "data": {
      "image/png": "[encoded data removed]",
      "text/plain": [
       "<Figure size 640x480 with 1 Axes>"
      ]
     },
     "metadata": {},
     "output_type": "display_data"
    }
   ],
   "source": [
    "import matplotlib.pyplot as plt\n",
    "\n",
    "# Training Loop\n",
    "losses = []\n",
    "inputs = np.array([[0.5, 0.2, 0.1]])\n",
    "y_true = np.array([[1]])\n",
    "learning_rate = 0.1\n",
    "\n",
    "for iteration in range(100):\n",
    "    # provide your code\n",
    "    # Hints: forward_propagation function with inputs network\n",
    "    #        compute_loss for y_true and activations[-1]\n",
    "    #        add loss to losses\n",
    "     \n",
    "\n",
    "    # gradients = backpropagation function\n",
    "    # update_weights\n",
    "    #TE: Step 1: Perform forward propagation to compute the network's predictions\n",
    "    activations = forward_propagation(inputs, network)  # Forward pass\n",
    "    \n",
    "    #TE: Step 2: Compute the loss (error) between the true labels and the predicted output\n",
    "    loss = compute_loss(y_true, activations[-1])  # Loss for the current iteration\n",
    "    losses.append(loss)  # Append the computed loss to the list\n",
    "    \n",
    "    #TE: Step 3: Perform backpropagation to compute gradients and update weights\n",
    "    gradient = backpropagation(network, activations, y_true)\n",
    "    #TE: Updating weights of the network\n",
    "    update_weights(network, gradient, learning_rate)\n",
    "\n",
    "    \n",
    "    \n",
    "# Plot Loss and rerun all cells\n",
    "plt.plot(losses)\n",
    "plt.title(\"Telmen Enkhtuvshin + Loss Before and After Weight Updates\", fontsize=20)\n",
    "plt.xlabel(\"Iterations\", fontsize=16)\n",
    "plt.ylabel(\"Loss\", fontsize=16)\n",
    "plt.grid()\n",
    "plt.show()\n"
   ]
  },
  {
   "cell_type": "markdown",
   "id": "737f4b49-9f2b-4e5c-8f75-cb102fc858e0",
   "metadata": {},
   "source": [
    "### Step 8: Visualizing Gradients Changes (Graduate students)"
   ]
  },
  {
   "cell_type": "markdown",
   "id": "42a89b54-adeb-4a5d-89b2-1883ce9634a7",
   "metadata": {},
   "source": [
    "Please pick a weight and plot the gradient change\n",
    "\n",
    "You need to point which weight you pick and label it on your graph."
   ]
  },
  {
   "cell_type": "code",
   "execution_count": null,
   "id": "e59f30cb-09da-48e9-9551-d9055db6e26b",
   "metadata": {},
   "outputs": [],
   "source": [
    "# Your code"
   ]
  },
  {
   "cell_type": "code",
   "execution_count": null,
   "id": "57f0d830-3ed2-4d96-9a72-3cca41792c07",
   "metadata": {},
   "outputs": [],
   "source": []
  }
 ],
 "metadata": {
  "kernelspec": {
   "display_name": "Python 3 (ipykernel)",
   "language": "python",
   "name": "python3"
  },
  "language_info": {
   "codemirror_mode": {
    "name": "ipython",
    "version": 3
   },
   "file_extension": ".py",
   "mimetype": "text/x-python",
   "name": "python",
   "nbconvert_exporter": "python",
   "pygments_lexer": "ipython3",
   "version": "3.11.5"
  }
 },
 "nbformat": 4,
 "nbformat_minor": 5
}
